{
 "cells": [
  {
   "cell_type": "code",
   "execution_count": 22,
   "id": "7ae5cddb",
   "metadata": {},
   "outputs": [],
   "source": [
    "import pandas as pd\n",
    "import numpy as np\n",
    "import seaborn as sns\n",
    "import matplotlib.pyplot as plt\n",
    "import matplotlib\n",
    "%matplotlib inline"
   ]
  },
  {
   "cell_type": "markdown",
   "id": "3dea965b",
   "metadata": {},
   "source": [
    "# My first Exploratory Data Analysis"
   ]
  },
  {
   "cell_type": "code",
   "execution_count": 39,
   "id": "345fb415",
   "metadata": {},
   "outputs": [
    {
     "data": {
      "text/html": [
       "<div>\n",
       "<style scoped>\n",
       "    .dataframe tbody tr th:only-of-type {\n",
       "        vertical-align: middle;\n",
       "    }\n",
       "\n",
       "    .dataframe tbody tr th {\n",
       "        vertical-align: top;\n",
       "    }\n",
       "\n",
       "    .dataframe thead th {\n",
       "        text-align: right;\n",
       "    }\n",
       "</style>\n",
       "<table border=\"1\" class=\"dataframe\">\n",
       "  <thead>\n",
       "    <tr style=\"text-align: right;\">\n",
       "      <th></th>\n",
       "      <th>id</th>\n",
       "      <th>title</th>\n",
       "      <th>type</th>\n",
       "      <th>description</th>\n",
       "      <th>release_year</th>\n",
       "      <th>age_certification</th>\n",
       "      <th>runtime</th>\n",
       "      <th>genres</th>\n",
       "      <th>production_countries</th>\n",
       "      <th>seasons</th>\n",
       "      <th>imdb_id</th>\n",
       "      <th>imdb_score</th>\n",
       "      <th>imdb_votes</th>\n",
       "      <th>tmdb_popularity</th>\n",
       "      <th>tmdb_score</th>\n",
       "    </tr>\n",
       "  </thead>\n",
       "  <tbody>\n",
       "    <tr>\n",
       "      <th>0</th>\n",
       "      <td>ts300399</td>\n",
       "      <td>Five Came Back: The Reference Films</td>\n",
       "      <td>SHOW</td>\n",
       "      <td>This collection includes 12 World War II-era p...</td>\n",
       "      <td>1945</td>\n",
       "      <td>TV-MA</td>\n",
       "      <td>48</td>\n",
       "      <td>['documentation']</td>\n",
       "      <td>['US']</td>\n",
       "      <td>1.0</td>\n",
       "      <td>NaN</td>\n",
       "      <td>NaN</td>\n",
       "      <td>NaN</td>\n",
       "      <td>0.600</td>\n",
       "      <td>NaN</td>\n",
       "    </tr>\n",
       "    <tr>\n",
       "      <th>1</th>\n",
       "      <td>tm84618</td>\n",
       "      <td>Taxi Driver</td>\n",
       "      <td>MOVIE</td>\n",
       "      <td>A mentally unstable Vietnam War veteran works ...</td>\n",
       "      <td>1976</td>\n",
       "      <td>R</td>\n",
       "      <td>113</td>\n",
       "      <td>['crime', 'drama']</td>\n",
       "      <td>['US']</td>\n",
       "      <td>NaN</td>\n",
       "      <td>tt0075314</td>\n",
       "      <td>8.3</td>\n",
       "      <td>795222.0</td>\n",
       "      <td>27.612</td>\n",
       "      <td>8.2</td>\n",
       "    </tr>\n",
       "    <tr>\n",
       "      <th>2</th>\n",
       "      <td>tm127384</td>\n",
       "      <td>Monty Python and the Holy Grail</td>\n",
       "      <td>MOVIE</td>\n",
       "      <td>King Arthur, accompanied by his squire, recrui...</td>\n",
       "      <td>1975</td>\n",
       "      <td>PG</td>\n",
       "      <td>91</td>\n",
       "      <td>['comedy', 'fantasy']</td>\n",
       "      <td>['GB']</td>\n",
       "      <td>NaN</td>\n",
       "      <td>tt0071853</td>\n",
       "      <td>8.2</td>\n",
       "      <td>530877.0</td>\n",
       "      <td>18.216</td>\n",
       "      <td>7.8</td>\n",
       "    </tr>\n",
       "    <tr>\n",
       "      <th>3</th>\n",
       "      <td>tm70993</td>\n",
       "      <td>Life of Brian</td>\n",
       "      <td>MOVIE</td>\n",
       "      <td>Brian Cohen is an average young Jewish man, bu...</td>\n",
       "      <td>1979</td>\n",
       "      <td>R</td>\n",
       "      <td>94</td>\n",
       "      <td>['comedy']</td>\n",
       "      <td>['GB']</td>\n",
       "      <td>NaN</td>\n",
       "      <td>tt0079470</td>\n",
       "      <td>8.0</td>\n",
       "      <td>392419.0</td>\n",
       "      <td>17.505</td>\n",
       "      <td>7.8</td>\n",
       "    </tr>\n",
       "    <tr>\n",
       "      <th>4</th>\n",
       "      <td>tm190788</td>\n",
       "      <td>The Exorcist</td>\n",
       "      <td>MOVIE</td>\n",
       "      <td>12-year-old Regan MacNeil begins to adapt an e...</td>\n",
       "      <td>1973</td>\n",
       "      <td>R</td>\n",
       "      <td>133</td>\n",
       "      <td>['horror']</td>\n",
       "      <td>['US']</td>\n",
       "      <td>NaN</td>\n",
       "      <td>tt0070047</td>\n",
       "      <td>8.1</td>\n",
       "      <td>391942.0</td>\n",
       "      <td>95.337</td>\n",
       "      <td>7.7</td>\n",
       "    </tr>\n",
       "  </tbody>\n",
       "</table>\n",
       "</div>"
      ],
      "text/plain": [
       "         id                                title   type  \\\n",
       "0  ts300399  Five Came Back: The Reference Films   SHOW   \n",
       "1   tm84618                          Taxi Driver  MOVIE   \n",
       "2  tm127384      Monty Python and the Holy Grail  MOVIE   \n",
       "3   tm70993                        Life of Brian  MOVIE   \n",
       "4  tm190788                         The Exorcist  MOVIE   \n",
       "\n",
       "                                         description  release_year  \\\n",
       "0  This collection includes 12 World War II-era p...          1945   \n",
       "1  A mentally unstable Vietnam War veteran works ...          1976   \n",
       "2  King Arthur, accompanied by his squire, recrui...          1975   \n",
       "3  Brian Cohen is an average young Jewish man, bu...          1979   \n",
       "4  12-year-old Regan MacNeil begins to adapt an e...          1973   \n",
       "\n",
       "  age_certification  runtime                 genres production_countries  \\\n",
       "0             TV-MA       48      ['documentation']               ['US']   \n",
       "1                 R      113     ['crime', 'drama']               ['US']   \n",
       "2                PG       91  ['comedy', 'fantasy']               ['GB']   \n",
       "3                 R       94             ['comedy']               ['GB']   \n",
       "4                 R      133             ['horror']               ['US']   \n",
       "\n",
       "   seasons    imdb_id  imdb_score  imdb_votes  tmdb_popularity  tmdb_score  \n",
       "0      1.0        NaN         NaN         NaN            0.600         NaN  \n",
       "1      NaN  tt0075314         8.3    795222.0           27.612         8.2  \n",
       "2      NaN  tt0071853         8.2    530877.0           18.216         7.8  \n",
       "3      NaN  tt0079470         8.0    392419.0           17.505         7.8  \n",
       "4      NaN  tt0070047         8.1    391942.0           95.337         7.7  "
      ]
     },
     "execution_count": 39,
     "metadata": {},
     "output_type": "execute_result"
    }
   ],
   "source": [
    "title = pd.read_csv('titles.csv')\n",
    "title.head()"
   ]
  },
  {
   "cell_type": "code",
   "execution_count": 347,
   "id": "468413ac",
   "metadata": {},
   "outputs": [
    {
     "data": {
      "text/html": [
       "<div>\n",
       "<style scoped>\n",
       "    .dataframe tbody tr th:only-of-type {\n",
       "        vertical-align: middle;\n",
       "    }\n",
       "\n",
       "    .dataframe tbody tr th {\n",
       "        vertical-align: top;\n",
       "    }\n",
       "\n",
       "    .dataframe thead th {\n",
       "        text-align: right;\n",
       "    }\n",
       "</style>\n",
       "<table border=\"1\" class=\"dataframe\">\n",
       "  <thead>\n",
       "    <tr style=\"text-align: right;\">\n",
       "      <th></th>\n",
       "      <th>release_year</th>\n",
       "      <th>runtime</th>\n",
       "      <th>seasons</th>\n",
       "      <th>imdb_score</th>\n",
       "      <th>imdb_votes</th>\n",
       "      <th>tmdb_popularity</th>\n",
       "      <th>tmdb_score</th>\n",
       "    </tr>\n",
       "  </thead>\n",
       "  <tbody>\n",
       "    <tr>\n",
       "      <th>count</th>\n",
       "      <td>5806.000000</td>\n",
       "      <td>5806.000000</td>\n",
       "      <td>2047.000000</td>\n",
       "      <td>5283.000000</td>\n",
       "      <td>5.267000e+03</td>\n",
       "      <td>5712.000000</td>\n",
       "      <td>5488.000000</td>\n",
       "    </tr>\n",
       "    <tr>\n",
       "      <th>mean</th>\n",
       "      <td>2016.013434</td>\n",
       "      <td>77.643989</td>\n",
       "      <td>2.165608</td>\n",
       "      <td>6.533447</td>\n",
       "      <td>2.340719e+04</td>\n",
       "      <td>22.525660</td>\n",
       "      <td>6.818039</td>\n",
       "    </tr>\n",
       "    <tr>\n",
       "      <th>std</th>\n",
       "      <td>7.324883</td>\n",
       "      <td>39.474160</td>\n",
       "      <td>2.636207</td>\n",
       "      <td>1.160932</td>\n",
       "      <td>8.713432e+04</td>\n",
       "      <td>68.849177</td>\n",
       "      <td>1.171560</td>\n",
       "    </tr>\n",
       "    <tr>\n",
       "      <th>min</th>\n",
       "      <td>1945.000000</td>\n",
       "      <td>0.000000</td>\n",
       "      <td>1.000000</td>\n",
       "      <td>1.500000</td>\n",
       "      <td>5.000000e+00</td>\n",
       "      <td>0.009442</td>\n",
       "      <td>0.500000</td>\n",
       "    </tr>\n",
       "    <tr>\n",
       "      <th>25%</th>\n",
       "      <td>2015.000000</td>\n",
       "      <td>44.000000</td>\n",
       "      <td>1.000000</td>\n",
       "      <td>5.800000</td>\n",
       "      <td>5.210000e+02</td>\n",
       "      <td>3.155250</td>\n",
       "      <td>6.100000</td>\n",
       "    </tr>\n",
       "    <tr>\n",
       "      <th>50%</th>\n",
       "      <td>2018.000000</td>\n",
       "      <td>84.000000</td>\n",
       "      <td>1.000000</td>\n",
       "      <td>6.600000</td>\n",
       "      <td>2.279000e+03</td>\n",
       "      <td>7.478000</td>\n",
       "      <td>6.900000</td>\n",
       "    </tr>\n",
       "    <tr>\n",
       "      <th>75%</th>\n",
       "      <td>2020.000000</td>\n",
       "      <td>105.000000</td>\n",
       "      <td>2.000000</td>\n",
       "      <td>7.400000</td>\n",
       "      <td>1.014400e+04</td>\n",
       "      <td>17.775750</td>\n",
       "      <td>7.500000</td>\n",
       "    </tr>\n",
       "    <tr>\n",
       "      <th>max</th>\n",
       "      <td>2022.000000</td>\n",
       "      <td>251.000000</td>\n",
       "      <td>42.000000</td>\n",
       "      <td>9.600000</td>\n",
       "      <td>2.268288e+06</td>\n",
       "      <td>1823.374000</td>\n",
       "      <td>10.000000</td>\n",
       "    </tr>\n",
       "  </tbody>\n",
       "</table>\n",
       "</div>"
      ],
      "text/plain": [
       "       release_year      runtime      seasons   imdb_score    imdb_votes  \\\n",
       "count   5806.000000  5806.000000  2047.000000  5283.000000  5.267000e+03   \n",
       "mean    2016.013434    77.643989     2.165608     6.533447  2.340719e+04   \n",
       "std        7.324883    39.474160     2.636207     1.160932  8.713432e+04   \n",
       "min     1945.000000     0.000000     1.000000     1.500000  5.000000e+00   \n",
       "25%     2015.000000    44.000000     1.000000     5.800000  5.210000e+02   \n",
       "50%     2018.000000    84.000000     1.000000     6.600000  2.279000e+03   \n",
       "75%     2020.000000   105.000000     2.000000     7.400000  1.014400e+04   \n",
       "max     2022.000000   251.000000    42.000000     9.600000  2.268288e+06   \n",
       "\n",
       "       tmdb_popularity   tmdb_score  \n",
       "count      5712.000000  5488.000000  \n",
       "mean         22.525660     6.818039  \n",
       "std          68.849177     1.171560  \n",
       "min           0.009442     0.500000  \n",
       "25%           3.155250     6.100000  \n",
       "50%           7.478000     6.900000  \n",
       "75%          17.775750     7.500000  \n",
       "max        1823.374000    10.000000  "
      ]
     },
     "execution_count": 347,
     "metadata": {},
     "output_type": "execute_result"
    }
   ],
   "source": [
    "title.describe()"
   ]
  },
  {
   "cell_type": "markdown",
   "id": "a41da10e",
   "metadata": {},
   "source": [
    "# data Preparation for cleaning"
   ]
  },
  {
   "cell_type": "code",
   "execution_count": 16,
   "id": "a732e7db",
   "metadata": {},
   "outputs": [
    {
     "name": "stdout",
     "output_type": "stream",
     "text": [
      "<class 'pandas.core.frame.DataFrame'>\n",
      "RangeIndex: 5806 entries, 0 to 5805\n",
      "Data columns (total 15 columns):\n",
      " #   Column                Non-Null Count  Dtype  \n",
      "---  ------                --------------  -----  \n",
      " 0   id                    5806 non-null   object \n",
      " 1   title                 5805 non-null   object \n",
      " 2   type                  5806 non-null   object \n",
      " 3   description           5788 non-null   object \n",
      " 4   release_year          5806 non-null   int64  \n",
      " 5   age_certification     3196 non-null   object \n",
      " 6   runtime               5806 non-null   int64  \n",
      " 7   genres                5806 non-null   object \n",
      " 8   production_countries  5806 non-null   object \n",
      " 9   seasons               2047 non-null   float64\n",
      " 10  imdb_id               5362 non-null   object \n",
      " 11  imdb_score            5283 non-null   float64\n",
      " 12  imdb_votes            5267 non-null   float64\n",
      " 13  tmdb_popularity       5712 non-null   float64\n",
      " 14  tmdb_score            5488 non-null   float64\n",
      "dtypes: float64(5), int64(2), object(8)\n",
      "memory usage: 680.5+ KB\n"
     ]
    }
   ],
   "source": [
    "title.info()"
   ]
  },
  {
   "cell_type": "code",
   "execution_count": 14,
   "id": "2a896ac8",
   "metadata": {},
   "outputs": [
    {
     "data": {
      "text/plain": [
       "id                      5806\n",
       "title                   5751\n",
       "type                       2\n",
       "description             5785\n",
       "release_year              67\n",
       "age_certification         11\n",
       "runtime                  205\n",
       "genres                  1626\n",
       "production_countries     449\n",
       "seasons                   23\n",
       "imdb_id                 5362\n",
       "imdb_score                81\n",
       "imdb_votes              3831\n",
       "tmdb_popularity         4943\n",
       "tmdb_score                78\n",
       "dtype: int64"
      ]
     },
     "execution_count": 14,
     "metadata": {},
     "output_type": "execute_result"
    }
   ],
   "source": [
    "title.nunique()"
   ]
  },
  {
   "cell_type": "markdown",
   "id": "80069831",
   "metadata": {},
   "source": [
    "### Handling null values\n",
    "###### there are 8306 null values in total in this docu"
   ]
  },
  {
   "cell_type": "code",
   "execution_count": 19,
   "id": "4a43d434",
   "metadata": {},
   "outputs": [
    {
     "data": {
      "text/plain": [
       "id                         0\n",
       "title                      1\n",
       "type                       0\n",
       "description               18\n",
       "release_year               0\n",
       "age_certification       2610\n",
       "runtime                    0\n",
       "genres                     0\n",
       "production_countries       0\n",
       "seasons                 3759\n",
       "imdb_id                  444\n",
       "imdb_score               523\n",
       "imdb_votes               539\n",
       "tmdb_popularity           94\n",
       "tmdb_score               318\n",
       "dtype: int64"
      ]
     },
     "execution_count": 19,
     "metadata": {},
     "output_type": "execute_result"
    }
   ],
   "source": [
    "title.isnull().sum()"
   ]
  },
  {
   "cell_type": "code",
   "execution_count": 20,
   "id": "1c4f9d5a",
   "metadata": {},
   "outputs": [
    {
     "data": {
      "text/plain": [
       "8306"
      ]
     },
     "execution_count": 20,
     "metadata": {},
     "output_type": "execute_result"
    }
   ],
   "source": [
    "title.isnull().sum().sum() # "
   ]
  },
  {
   "cell_type": "code",
   "execution_count": 25,
   "id": "4eb00447",
   "metadata": {},
   "outputs": [
    {
     "data": {
      "text/plain": [
       "Text(0.5, 1.0, 'Null Value dataset')"
      ]
     },
     "execution_count": 25,
     "metadata": {},
     "output_type": "execute_result"
    },
    {
     "data": {
      "image/png": "[encoded data removed]",
      "text/plain": [
       "<Figure size 432x288 with 1 Axes>"
      ]
     },
     "metadata": {
      "needs_background": "light"
     },
     "output_type": "display_data"
    }
   ],
   "source": [
    "sns.heatmap(title.isnull(),cbar= False, cmap= \"Reds\")\n",
    "plt.title(\"Null Value dataset\")"
   ]
  },
  {
   "cell_type": "code",
   "execution_count": 26,
   "id": "14c1d502",
   "metadata": {},
   "outputs": [],
   "source": [
    "title['description'].fillna('No Description', inplace = True)\n",
    "title['age_certification'].fillna('No age_cert', inplace = True)\n",
    "title['seasons'].fillna('No season', inplace = True)\n",
    "title['imdb_id'].fillna('No Id', inplace = True)\n",
    "title['imdb_score'].fillna(0.0, inplace = True)\n",
    "title['imdb_votes'].fillna(0.0, inplace = True)\n",
    "title['tmdb_popularity'].fillna(0.0, inplace = True)\n",
    "title['tmdb_score'].fillna(0.0, inplace = True)\n"
   ]
  },
  {
   "cell_type": "code",
   "execution_count": 27,
   "id": "dd7b3226",
   "metadata": {},
   "outputs": [
    {
     "data": {
      "text/plain": [
       "Text(0.5, 1.0, 'Null Value dataset')"
      ]
     },
     "execution_count": 27,
     "metadata": {},
     "output_type": "execute_result"
    },
    {
     "data": {
      "image/png": "[encoded data removed]",
      "text/plain": [
       "<Figure size 432x288 with 1 Axes>"
      ]
     },
     "metadata": {
      "needs_background": "light"
     },
     "output_type": "display_data"
    }
   ],
   "source": [
    "sns.heatmap(title.isnull(),cbar= False, cmap= \"Reds\")\n",
    "plt.title(\"Null Value dataset\")"
   ]
  },
  {
   "cell_type": "code",
   "execution_count": 31,
   "id": "bf8b7a67",
   "metadata": {},
   "outputs": [],
   "source": [
    "title.dropna(subset=['title'],inplace=True)"
   ]
  },
  {
   "cell_type": "code",
   "execution_count": 33,
   "id": "fea50e8d",
   "metadata": {},
   "outputs": [
    {
     "data": {
      "text/plain": [
       "False"
      ]
     },
     "execution_count": 33,
     "metadata": {},
     "output_type": "execute_result"
    }
   ],
   "source": [
    "title.isnull().sum().any()"
   ]
  },
  {
   "cell_type": "markdown",
   "id": "5cb4500e",
   "metadata": {},
   "source": [
    "# Splitting the Dataset\n",
    "### spliting movies and  shows apart"
   ]
  },
  {
   "cell_type": "code",
   "execution_count": 40,
   "id": "d48c25b2",
   "metadata": {},
   "outputs": [],
   "source": [
    "# spliting movies\n",
    "title_movies = title[title['type']== 'MOVIE']"
   ]
  },
  {
   "cell_type": "code",
   "execution_count": 42,
   "id": "58099a2e",
   "metadata": {},
   "outputs": [
    {
     "name": "stdout",
     "output_type": "stream",
     "text": [
      "<class 'pandas.core.frame.DataFrame'>\n",
      "Int64Index: 3759 entries, 1 to 5804\n",
      "Data columns (total 15 columns):\n",
      " #   Column                Non-Null Count  Dtype  \n",
      "---  ------                --------------  -----  \n",
      " 0   id                    3759 non-null   object \n",
      " 1   title                 3758 non-null   object \n",
      " 2   type                  3759 non-null   object \n",
      " 3   description           3751 non-null   object \n",
      " 4   release_year          3759 non-null   int64  \n",
      " 5   age_certification     1406 non-null   object \n",
      " 6   runtime               3759 non-null   int64  \n",
      " 7   genres                3759 non-null   object \n",
      " 8   production_countries  3759 non-null   object \n",
      " 9   seasons               0 non-null      float64\n",
      " 10  imdb_id               3451 non-null   object \n",
      " 11  imdb_score            3407 non-null   float64\n",
      " 12  imdb_votes            3391 non-null   float64\n",
      " 13  tmdb_popularity       3698 non-null   float64\n",
      " 14  tmdb_score            3573 non-null   float64\n",
      "dtypes: float64(5), int64(2), object(8)\n",
      "memory usage: 469.9+ KB\n"
     ]
    }
   ],
   "source": [
    "title_movies.info()"
   ]
  },
  {
   "cell_type": "code",
   "execution_count": 45,
   "id": "b949b098",
   "metadata": {},
   "outputs": [
    {
     "name": "stdout",
     "output_type": "stream",
     "text": [
      "<class 'pandas.core.frame.DataFrame'>\n",
      "Int64Index: 2047 entries, 0 to 5805\n",
      "Data columns (total 15 columns):\n",
      " #   Column                Non-Null Count  Dtype  \n",
      "---  ------                --------------  -----  \n",
      " 0   id                    2047 non-null   object \n",
      " 1   title                 2047 non-null   object \n",
      " 2   type                  2047 non-null   object \n",
      " 3   description           2037 non-null   object \n",
      " 4   release_year          2047 non-null   int64  \n",
      " 5   age_certification     1790 non-null   object \n",
      " 6   runtime               2047 non-null   int64  \n",
      " 7   genres                2047 non-null   object \n",
      " 8   production_countries  2047 non-null   object \n",
      " 9   seasons               2047 non-null   float64\n",
      " 10  imdb_id               1911 non-null   object \n",
      " 11  imdb_score            1876 non-null   float64\n",
      " 12  imdb_votes            1876 non-null   float64\n",
      " 13  tmdb_popularity       2014 non-null   float64\n",
      " 14  tmdb_score            1915 non-null   float64\n",
      "dtypes: float64(5), int64(2), object(8)\n",
      "memory usage: 255.9+ KB\n"
     ]
    }
   ],
   "source": [
    "# Splitting shows\n",
    "title_shows = title[title['type']== 'SHOW']\n",
    "title_shows.info()"
   ]
  },
  {
   "cell_type": "markdown",
   "id": "914fcc9d",
   "metadata": {},
   "source": [
    "# Data Preparation"
   ]
  },
  {
   "cell_type": "code",
   "execution_count": 53,
   "id": "3b6c2489",
   "metadata": {},
   "outputs": [
    {
     "data": {
      "text/plain": [
       "1      NaN\n",
       "2      NaN\n",
       "3      NaN\n",
       "4      NaN\n",
       "6      NaN\n",
       "        ..\n",
       "5800   NaN\n",
       "5801   NaN\n",
       "5802   NaN\n",
       "5803   NaN\n",
       "5804   NaN\n",
       "Name: seasons, Length: 3759, dtype: float64"
      ]
     },
     "execution_count": 53,
     "metadata": {},
     "output_type": "execute_result"
    }
   ],
   "source": [
    "# movies doesn't need seasons\n",
    "title_movies['seasons']"
   ]
  },
  {
   "cell_type": "code",
   "execution_count": 58,
   "id": "e4161a18",
   "metadata": {},
   "outputs": [
    {
     "name": "stdout",
     "output_type": "stream",
     "text": [
      "dropped seasons on movies\n"
     ]
    }
   ],
   "source": [
    "title_movies.drop(labels=['seasons'],axis=1)\n",
    "print(\"dropped seasons on movies\")"
   ]
  },
  {
   "cell_type": "markdown",
   "id": "72ff53b3",
   "metadata": {},
   "source": [
    "# Exploratory Analysis and visualization\n",
    "### Types: Movie or TV Shows"
   ]
  },
  {
   "cell_type": "code",
   "execution_count": 67,
   "id": "32406a1b",
   "metadata": {},
   "outputs": [
    {
     "name": "stderr",
     "output_type": "stream",
     "text": [
      "/Users/knamas/opt/anaconda3/lib/python3.9/site-packages/seaborn/_decorators.py:36: FutureWarning: Pass the following variable as a keyword arg: x. From version 0.12, the only valid positional argument will be `data`, and passing other arguments without an explicit keyword will result in an error or misinterpretation.\n",
      "  warnings.warn(\n"
     ]
    },
    {
     "data": {
      "image/png": "[encoded data removed]",
      "text/plain": [
       "<Figure size 432x288 with 1 Axes>"
      ]
     },
     "metadata": {
      "needs_background": "light"
     },
     "output_type": "display_data"
    }
   ],
   "source": [
    "sns.countplot(title.type , palette= ['pink','blue'])\n",
    "plt.title(\"Count of Movies and TV Shows\")\n",
    "plt.xlabel(\"Type (Movies/TV Shows)\")\n",
    "plt.ylabel(\"Total Count\")\n",
    "plt.show()\n"
   ]
  },
  {
   "cell_type": "code",
   "execution_count": 75,
   "id": "12e72f4d",
   "metadata": {},
   "outputs": [
    {
     "data": {
      "image/png": "[encoded data removed]",
      "text/plain": [
       "<Figure size 864x576 with 1 Axes>"
      ]
     },
     "metadata": {},
     "output_type": "display_data"
    }
   ],
   "source": [
    "plt.figure(figsize=(12,8))\n",
    "plt.title(\"Netflix Title that are Movies or TV Shows\")\n",
    "plt.pie(title.type.value_counts(),explode=(0.10,0),startangle=90, shadow= True,autopct='%1.1f%%',\n",
    "       labels= title.type.value_counts().index, colors =['red','green'])\n",
    "\n",
    "plt.legend(title = 'Type')\n",
    "plt.show()"
   ]
  },
  {
   "cell_type": "markdown",
   "id": "38faf7a5",
   "metadata": {},
   "source": [
    "# Netflix Film IMDB and TMDB scores"
   ]
  },
  {
   "cell_type": "code",
   "execution_count": 126,
   "id": "8b3063bd",
   "metadata": {},
   "outputs": [
    {
     "data": {
      "image/png": "[encoded data removed]",
      "text/plain": [
       "<Figure size 864x432 with 1 Axes>"
      ]
     },
     "metadata": {
      "needs_background": "light"
     },
     "output_type": "display_data"
    }
   ],
   "source": [
    "\n",
    "plt.figure(figsize= (12,6))\n",
    "sns.countplot(title.imdb_score, hue =title.type,palette='muted')\n",
    "plt.xticks([0,10,20,30,40,50,60,70,80])\n",
    "\n",
    "plt.title(\"Movies and TV Shows beased on IMDB Score\")\n",
    "plt.xlabel(\"IMDB Score\")\n",
    "plt.ylabel(\"Number of films\")\n",
    "plt.show()"
   ]
  },
  {
   "cell_type": "code",
   "execution_count": 108,
   "id": "33b908e8",
   "metadata": {},
   "outputs": [
    {
     "name": "stderr",
     "output_type": "stream",
     "text": [
      "/Users/knamas/opt/anaconda3/lib/python3.9/site-packages/seaborn/_decorators.py:36: FutureWarning: Pass the following variable as a keyword arg: x. From version 0.12, the only valid positional argument will be `data`, and passing other arguments without an explicit keyword will result in an error or misinterpretation.\n",
      "  warnings.warn(\n"
     ]
    },
    {
     "data": {
      "image/png": "[encoded data removed]",
      "text/plain": [
       "<Figure size 864x432 with 1 Axes>"
      ]
     },
     "metadata": {
      "needs_background": "light"
     },
     "output_type": "display_data"
    }
   ],
   "source": [
    "# TMBD scores\n",
    "plt.figure(figsize= (12,6))\n",
    "sns.countplot(title.tmdb_score, hue =title.type,palette=['red', 'blue'])\n",
    "plt.xticks([0,10,20,30,40,50,60,70,80])\n",
    "\n",
    "plt.title(\"Movies and TV Shows beased on IMDB Score\")\n",
    "plt.xlabel(\"TMDB Score\")\n",
    "plt.ylabel(\"Number of films\")\n",
    "plt.show()\n"
   ]
  },
  {
   "cell_type": "code",
   "execution_count": 129,
   "id": "6a964717",
   "metadata": {},
   "outputs": [
    {
     "data": {
      "text/html": [
       "<div>\n",
       "<style scoped>\n",
       "    .dataframe tbody tr th:only-of-type {\n",
       "        vertical-align: middle;\n",
       "    }\n",
       "\n",
       "    .dataframe tbody tr th {\n",
       "        vertical-align: top;\n",
       "    }\n",
       "\n",
       "    .dataframe thead th {\n",
       "        text-align: right;\n",
       "    }\n",
       "</style>\n",
       "<table border=\"1\" class=\"dataframe\">\n",
       "  <thead>\n",
       "    <tr style=\"text-align: right;\">\n",
       "      <th></th>\n",
       "      <th>title</th>\n",
       "      <th>imdb_score</th>\n",
       "      <th>release_year</th>\n",
       "    </tr>\n",
       "  </thead>\n",
       "  <tbody>\n",
       "    <tr>\n",
       "      <th>3352</th>\n",
       "      <td>David Attenborough: A Life on Our Planet</td>\n",
       "      <td>9.0</td>\n",
       "      <td>2020</td>\n",
       "    </tr>\n",
       "    <tr>\n",
       "      <th>2814</th>\n",
       "      <td>C/o Kancharapalem</td>\n",
       "      <td>9.0</td>\n",
       "      <td>2018</td>\n",
       "    </tr>\n",
       "    <tr>\n",
       "      <th>25</th>\n",
       "      <td>No Longer Kids</td>\n",
       "      <td>9.0</td>\n",
       "      <td>1979</td>\n",
       "    </tr>\n",
       "    <tr>\n",
       "      <th>876</th>\n",
       "      <td>Chhota Bheem &amp; Krishna in Mayanagari</td>\n",
       "      <td>9.0</td>\n",
       "      <td>2011</td>\n",
       "    </tr>\n",
       "    <tr>\n",
       "      <th>260</th>\n",
       "      <td>Inception</td>\n",
       "      <td>8.8</td>\n",
       "      <td>2010</td>\n",
       "    </tr>\n",
       "    <tr>\n",
       "      <th>4473</th>\n",
       "      <td>Sky Tour: The Movie</td>\n",
       "      <td>8.8</td>\n",
       "      <td>2020</td>\n",
       "    </tr>\n",
       "    <tr>\n",
       "      <th>108</th>\n",
       "      <td>Forrest Gump</td>\n",
       "      <td>8.8</td>\n",
       "      <td>1994</td>\n",
       "    </tr>\n",
       "    <tr>\n",
       "      <th>519</th>\n",
       "      <td>A Lion in the House</td>\n",
       "      <td>8.7</td>\n",
       "      <td>2006</td>\n",
       "    </tr>\n",
       "    <tr>\n",
       "      <th>596</th>\n",
       "      <td>Anbe Sivam</td>\n",
       "      <td>8.7</td>\n",
       "      <td>2003</td>\n",
       "    </tr>\n",
       "    <tr>\n",
       "      <th>85</th>\n",
       "      <td>Bye Bye London</td>\n",
       "      <td>8.7</td>\n",
       "      <td>1982</td>\n",
       "    </tr>\n",
       "  </tbody>\n",
       "</table>\n",
       "</div>"
      ],
      "text/plain": [
       "                                         title  imdb_score  release_year\n",
       "3352  David Attenborough: A Life on Our Planet         9.0          2020\n",
       "2814                         C/o Kancharapalem         9.0          2018\n",
       "25                              No Longer Kids         9.0          1979\n",
       "876       Chhota Bheem & Krishna in Mayanagari         9.0          2011\n",
       "260                                  Inception         8.8          2010\n",
       "4473                       Sky Tour: The Movie         8.8          2020\n",
       "108                               Forrest Gump         8.8          1994\n",
       "519                        A Lion in the House         8.7          2006\n",
       "596                                 Anbe Sivam         8.7          2003\n",
       "85                              Bye Bye London         8.7          1982"
      ]
     },
     "execution_count": 129,
     "metadata": {},
     "output_type": "execute_result"
    }
   ],
   "source": [
    "movie_scoreimdb = title_movies.sort_values('imdb_score',ascending=False)\n",
    "top10movie_imdb =movie_scoreimdb[['title', 'imdb_score','release_year']][0:10]\n",
    "top10movie_imdb"
   ]
  },
  {
   "cell_type": "code",
   "execution_count": 130,
   "id": "9e8fc4a6",
   "metadata": {},
   "outputs": [
    {
     "data": {
      "text/html": [
       "<div>\n",
       "<style scoped>\n",
       "    .dataframe tbody tr th:only-of-type {\n",
       "        vertical-align: middle;\n",
       "    }\n",
       "\n",
       "    .dataframe tbody tr th {\n",
       "        vertical-align: top;\n",
       "    }\n",
       "\n",
       "    .dataframe thead th {\n",
       "        text-align: right;\n",
       "    }\n",
       "</style>\n",
       "<table border=\"1\" class=\"dataframe\">\n",
       "  <thead>\n",
       "    <tr style=\"text-align: right;\">\n",
       "      <th></th>\n",
       "      <th>title</th>\n",
       "      <th>imdb_score</th>\n",
       "      <th>release_year</th>\n",
       "    </tr>\n",
       "  </thead>\n",
       "  <tbody>\n",
       "    <tr>\n",
       "      <th>2927</th>\n",
       "      <td>#ABtalks</td>\n",
       "      <td>9.6</td>\n",
       "      <td>2018</td>\n",
       "    </tr>\n",
       "    <tr>\n",
       "      <th>656</th>\n",
       "      <td>Khawatir</td>\n",
       "      <td>9.6</td>\n",
       "      <td>2005</td>\n",
       "    </tr>\n",
       "    <tr>\n",
       "      <th>243</th>\n",
       "      <td>Breaking Bad</td>\n",
       "      <td>9.5</td>\n",
       "      <td>2008</td>\n",
       "    </tr>\n",
       "    <tr>\n",
       "      <th>259</th>\n",
       "      <td>Avatar: The Last Airbender</td>\n",
       "      <td>9.3</td>\n",
       "      <td>2005</td>\n",
       "    </tr>\n",
       "    <tr>\n",
       "      <th>3827</th>\n",
       "      <td>Kota Factory</td>\n",
       "      <td>9.3</td>\n",
       "      <td>2019</td>\n",
       "    </tr>\n",
       "    <tr>\n",
       "      <th>3320</th>\n",
       "      <td>Our Planet</td>\n",
       "      <td>9.3</td>\n",
       "      <td>2019</td>\n",
       "    </tr>\n",
       "    <tr>\n",
       "      <th>2057</th>\n",
       "      <td>My Mister</td>\n",
       "      <td>9.2</td>\n",
       "      <td>2018</td>\n",
       "    </tr>\n",
       "    <tr>\n",
       "      <th>1422</th>\n",
       "      <td>Reply 1988</td>\n",
       "      <td>9.2</td>\n",
       "      <td>2015</td>\n",
       "    </tr>\n",
       "    <tr>\n",
       "      <th>5059</th>\n",
       "      <td>Who Rules The World</td>\n",
       "      <td>9.2</td>\n",
       "      <td>2022</td>\n",
       "    </tr>\n",
       "    <tr>\n",
       "      <th>4847</th>\n",
       "      <td>Arcane</td>\n",
       "      <td>9.1</td>\n",
       "      <td>2021</td>\n",
       "    </tr>\n",
       "  </tbody>\n",
       "</table>\n",
       "</div>"
      ],
      "text/plain": [
       "                           title  imdb_score  release_year\n",
       "2927                    #ABtalks         9.6          2018\n",
       "656                     Khawatir         9.6          2005\n",
       "243                 Breaking Bad         9.5          2008\n",
       "259   Avatar: The Last Airbender         9.3          2005\n",
       "3827                Kota Factory         9.3          2019\n",
       "3320                  Our Planet         9.3          2019\n",
       "2057                   My Mister         9.2          2018\n",
       "1422                  Reply 1988         9.2          2015\n",
       "5059         Who Rules The World         9.2          2022\n",
       "4847                      Arcane         9.1          2021"
      ]
     },
     "execution_count": 130,
     "metadata": {},
     "output_type": "execute_result"
    }
   ],
   "source": [
    "tvshow_scoreimdb = title_shows.sort_values('imdb_score',ascending=False)\n",
    "top10tvshow_imdb =tvshow_scoreimdb[['title', 'imdb_score','release_year']][0:10]\n",
    "top10tvshow_imdb"
   ]
  },
  {
   "cell_type": "code",
   "execution_count": 132,
   "id": "e22f8c46",
   "metadata": {},
   "outputs": [
    {
     "data": {
      "text/html": [
       "<div>\n",
       "<style scoped>\n",
       "    .dataframe tbody tr th:only-of-type {\n",
       "        vertical-align: middle;\n",
       "    }\n",
       "\n",
       "    .dataframe tbody tr th {\n",
       "        vertical-align: top;\n",
       "    }\n",
       "\n",
       "    .dataframe thead th {\n",
       "        text-align: right;\n",
       "    }\n",
       "</style>\n",
       "<table border=\"1\" class=\"dataframe\">\n",
       "  <thead>\n",
       "    <tr style=\"text-align: right;\">\n",
       "      <th></th>\n",
       "      <th>title</th>\n",
       "      <th>tmdb_score</th>\n",
       "      <th>release_year</th>\n",
       "    </tr>\n",
       "  </thead>\n",
       "  <tbody>\n",
       "    <tr>\n",
       "      <th>4752</th>\n",
       "      <td>True: Rainbow Rescue</td>\n",
       "      <td>10.0</td>\n",
       "      <td>2020</td>\n",
       "    </tr>\n",
       "    <tr>\n",
       "      <th>5622</th>\n",
       "      <td>Thomas &amp; Friends: All Engines Go - Race for th...</td>\n",
       "      <td>10.0</td>\n",
       "      <td>2021</td>\n",
       "    </tr>\n",
       "    <tr>\n",
       "      <th>4742</th>\n",
       "      <td>Fate of Alakada</td>\n",
       "      <td>10.0</td>\n",
       "      <td>2020</td>\n",
       "    </tr>\n",
       "    <tr>\n",
       "      <th>2779</th>\n",
       "      <td>The Gift</td>\n",
       "      <td>10.0</td>\n",
       "      <td>2017</td>\n",
       "    </tr>\n",
       "    <tr>\n",
       "      <th>4665</th>\n",
       "      <td>Motu Patlu in the Game of Zones</td>\n",
       "      <td>10.0</td>\n",
       "      <td>2020</td>\n",
       "    </tr>\n",
       "    <tr>\n",
       "      <th>1791</th>\n",
       "      <td>Thomas &amp; Friends: Full Steam To The Rescue!</td>\n",
       "      <td>10.0</td>\n",
       "      <td>2016</td>\n",
       "    </tr>\n",
       "    <tr>\n",
       "      <th>3036</th>\n",
       "      <td>Motu Patlu Kung Fu Kings 4 The Challenge of Ku...</td>\n",
       "      <td>10.0</td>\n",
       "      <td>2018</td>\n",
       "    </tr>\n",
       "    <tr>\n",
       "      <th>4570</th>\n",
       "      <td>True: Friendship Day</td>\n",
       "      <td>10.0</td>\n",
       "      <td>2020</td>\n",
       "    </tr>\n",
       "    <tr>\n",
       "      <th>4675</th>\n",
       "      <td>Motu Patlu the Superheroes – Super Villains fr...</td>\n",
       "      <td>10.0</td>\n",
       "      <td>2019</td>\n",
       "    </tr>\n",
       "    <tr>\n",
       "      <th>4734</th>\n",
       "      <td>Uncle Naji in UAE</td>\n",
       "      <td>10.0</td>\n",
       "      <td>2019</td>\n",
       "    </tr>\n",
       "  </tbody>\n",
       "</table>\n",
       "</div>"
      ],
      "text/plain": [
       "                                                  title  tmdb_score  \\\n",
       "4752                               True: Rainbow Rescue        10.0   \n",
       "5622  Thomas & Friends: All Engines Go - Race for th...        10.0   \n",
       "4742                                    Fate of Alakada        10.0   \n",
       "2779                                           The Gift        10.0   \n",
       "4665                    Motu Patlu in the Game of Zones        10.0   \n",
       "1791        Thomas & Friends: Full Steam To The Rescue!        10.0   \n",
       "3036  Motu Patlu Kung Fu Kings 4 The Challenge of Ku...        10.0   \n",
       "4570                               True: Friendship Day        10.0   \n",
       "4675  Motu Patlu the Superheroes – Super Villains fr...        10.0   \n",
       "4734                                  Uncle Naji in UAE        10.0   \n",
       "\n",
       "      release_year  \n",
       "4752          2020  \n",
       "5622          2021  \n",
       "4742          2020  \n",
       "2779          2017  \n",
       "4665          2020  \n",
       "1791          2016  \n",
       "3036          2018  \n",
       "4570          2020  \n",
       "4675          2019  \n",
       "4734          2019  "
      ]
     },
     "execution_count": 132,
     "metadata": {},
     "output_type": "execute_result"
    }
   ],
   "source": [
    "movie_scoretmdb = title_movies.sort_values('tmdb_score',ascending=False)\n",
    "top10movie_tmdb =movie_scoretmdb[['title', 'tmdb_score','release_year']][0:10]\n",
    "top10movie_tmdb"
   ]
  },
  {
   "cell_type": "code",
   "execution_count": 133,
   "id": "5cb79af4",
   "metadata": {},
   "outputs": [
    {
     "data": {
      "text/html": [
       "<div>\n",
       "<style scoped>\n",
       "    .dataframe tbody tr th:only-of-type {\n",
       "        vertical-align: middle;\n",
       "    }\n",
       "\n",
       "    .dataframe tbody tr th {\n",
       "        vertical-align: top;\n",
       "    }\n",
       "\n",
       "    .dataframe thead th {\n",
       "        text-align: right;\n",
       "    }\n",
       "</style>\n",
       "<table border=\"1\" class=\"dataframe\">\n",
       "  <thead>\n",
       "    <tr style=\"text-align: right;\">\n",
       "      <th></th>\n",
       "      <th>title</th>\n",
       "      <th>tmdb_score</th>\n",
       "      <th>release_year</th>\n",
       "    </tr>\n",
       "  </thead>\n",
       "  <tbody>\n",
       "    <tr>\n",
       "      <th>5805</th>\n",
       "      <td>Mighty Little Bheem: Kite Festival</td>\n",
       "      <td>10.0</td>\n",
       "      <td>2021</td>\n",
       "    </tr>\n",
       "    <tr>\n",
       "      <th>4584</th>\n",
       "      <td>Lugar de Mulher</td>\n",
       "      <td>10.0</td>\n",
       "      <td>2019</td>\n",
       "    </tr>\n",
       "    <tr>\n",
       "      <th>4186</th>\n",
       "      <td>Happy Jail</td>\n",
       "      <td>10.0</td>\n",
       "      <td>2019</td>\n",
       "    </tr>\n",
       "    <tr>\n",
       "      <th>4200</th>\n",
       "      <td>The Writer</td>\n",
       "      <td>10.0</td>\n",
       "      <td>2019</td>\n",
       "    </tr>\n",
       "    <tr>\n",
       "      <th>4228</th>\n",
       "      <td>The Queen and the Conqueror</td>\n",
       "      <td>10.0</td>\n",
       "      <td>2020</td>\n",
       "    </tr>\n",
       "    <tr>\n",
       "      <th>4259</th>\n",
       "      <td>How To Ruin Christmas</td>\n",
       "      <td>10.0</td>\n",
       "      <td>2020</td>\n",
       "    </tr>\n",
       "    <tr>\n",
       "      <th>4262</th>\n",
       "      <td>Nadiya's Time to Eat</td>\n",
       "      <td>10.0</td>\n",
       "      <td>2019</td>\n",
       "    </tr>\n",
       "    <tr>\n",
       "      <th>4295</th>\n",
       "      <td>Styling Hollywood</td>\n",
       "      <td>10.0</td>\n",
       "      <td>2019</td>\n",
       "    </tr>\n",
       "    <tr>\n",
       "      <th>4466</th>\n",
       "      <td>A Queen Is Born</td>\n",
       "      <td>10.0</td>\n",
       "      <td>2020</td>\n",
       "    </tr>\n",
       "    <tr>\n",
       "      <th>4498</th>\n",
       "      <td>No hay tiempo para la vergüenza</td>\n",
       "      <td>10.0</td>\n",
       "      <td>2019</td>\n",
       "    </tr>\n",
       "  </tbody>\n",
       "</table>\n",
       "</div>"
      ],
      "text/plain": [
       "                                   title  tmdb_score  release_year\n",
       "5805  Mighty Little Bheem: Kite Festival        10.0          2021\n",
       "4584                     Lugar de Mulher        10.0          2019\n",
       "4186                          Happy Jail        10.0          2019\n",
       "4200                          The Writer        10.0          2019\n",
       "4228         The Queen and the Conqueror        10.0          2020\n",
       "4259               How To Ruin Christmas        10.0          2020\n",
       "4262                Nadiya's Time to Eat        10.0          2019\n",
       "4295                   Styling Hollywood        10.0          2019\n",
       "4466                     A Queen Is Born        10.0          2020\n",
       "4498     No hay tiempo para la vergüenza        10.0          2019"
      ]
     },
     "execution_count": 133,
     "metadata": {},
     "output_type": "execute_result"
    }
   ],
   "source": [
    "tvshow_scoretmdb = title_shows.sort_values('tmdb_score',ascending=False)\n",
    "top10tvshow_tmdb =tvshow_scoretmdb[['title', 'tmdb_score','release_year']][0:10]\n",
    "top10tvshow_tmdb"
   ]
  },
  {
   "cell_type": "code",
   "execution_count": 249,
   "id": "c572b8e3",
   "metadata": {},
   "outputs": [],
   "source": [
    "x = title_shows.genres.value_counts().index.tolist()[0:5]\n",
    "y = title_shows.genres.value_counts()[0:5]"
   ]
  },
  {
   "cell_type": "code",
   "execution_count": 279,
   "id": "41f8a102",
   "metadata": {},
   "outputs": [
    {
     "data": {
      "image/png": "[encoded data removed]",
      "text/plain": [
       "<Figure size 1440x504 with 1 Axes>"
      ]
     },
     "metadata": {
      "needs_background": "light"
     },
     "output_type": "display_data"
    }
   ],
   "source": [
    "plt.figure(figsize=(20,7))\n",
    "plt.bar(x ,y , width=0.8)\n",
    "for i in range(5):\n",
    "    plt.text(i,y[i],f'{y[i]} {x[i]}',ha='center',fontsize=12)\n",
    "plt.title('Top five Genres of shows',fontsize=20,color ='blue')\n",
    "plt.xlabel('Genres',fontsize=16)\n",
    "plt.ylabel('No. of genres',fontsize=16)\n",
    "plt.show()"
   ]
  },
  {
   "cell_type": "code",
   "execution_count": 255,
   "id": "de4c6b7b",
   "metadata": {},
   "outputs": [
    {
     "data": {
      "image/png": "[encoded data removed]",
      "text/plain": [
       "<Figure size 1440x504 with 1 Axes>"
      ]
     },
     "metadata": {
      "needs_background": "light"
     },
     "output_type": "display_data"
    }
   ],
   "source": [
    "x_1 = title_movies.genres.value_counts().index.tolist()[0:5]\n",
    "y_1 = title_movies.genres.value_counts()[0:5]\n",
    "plt.figure(figsize=(20,7))\n",
    "plt.bar(x_1 ,y_1 , width=0.8, color =\"orange\")\n",
    "for i in range(5):\n",
    "    plt.text(i,y_1[i],f'{y_1[i]} {x_1[i]}',ha='center',fontsize=12)\n",
    "plt.title('Top five Genres of Movies',fontsize=20,color ='blue')\n",
    "plt.xlabel('Genres',fontsize=16)\n",
    "plt.ylabel('No. of genres',fontsize=16)\n",
    "plt.show()"
   ]
  },
  {
   "cell_type": "code",
   "execution_count": 273,
   "id": "9688431c",
   "metadata": {},
   "outputs": [],
   "source": [
    "# netflix_year = netflix_titles['year_added'].value_counts().to_frame().reset_index()\n",
    "#                 .rename(columns={'index':'year','year_added':'count'})\n",
    "\n",
    "release = title['release_year'].value_counts().to_frame().reset_index().rename(\n",
    "    columns={'index':'year','release_year':'count'})\n",
    "release = release.sort_values('year', ascending=False)\n",
    "\n",
    "release_movies = title_movies['release_year'].value_counts().to_frame().reset_index().rename(\n",
    "    columns={'index':'year','release_year':'count'})\n",
    "release_movies = release_movies.sort_values('year', ascending=False)\n",
    "\n",
    "release_shows = title_shows['release_year'].value_counts().to_frame().reset_index().rename(\n",
    "    columns={'index':'year','release_year':'count'})\n",
    "release_shows = release_shows.sort_values('year', ascending=False)"
   ]
  },
  {
   "cell_type": "code",
   "execution_count": 276,
   "id": "f2ef67ca",
   "metadata": {},
   "outputs": [
    {
     "data": {
      "text/plain": [
       "Text(0, 0.5, 'Releases')"
      ]
     },
     "execution_count": 276,
     "metadata": {},
     "output_type": "execute_result"
    },
    {
     "data": {
      "image/png": "[encoded data removed]",
      "text/plain": [
       "<Figure size 1152x576 with 1 Axes>"
      ]
     },
     "metadata": {
      "needs_background": "light"
     },
     "output_type": "display_data"
    }
   ],
   "source": [
    "fig, ax = plt.subplots(figsize=(16,8))\n",
    "ax.plot(release['year'],release['count'],label='Netflix Film')\n",
    "ax.plot(release_movies['year'],release_movies['count'],label='Movies')\n",
    "ax.plot(release_shows['year'],release_shows['count'],label='TV shows')\n",
    "ax.set_xlim(2000,2023)\n",
    "ax.set_title(\"Total content release date (up to 2022)\", fontsize=20)\n",
    "ax.legend()\n",
    "ax.set_xlabel(\"Year\", fontsize=16)\n",
    "ax.set_ylabel(\"Releases\", fontsize=16)"
   ]
  },
  {
   "cell_type": "code",
   "execution_count": 324,
   "id": "b12525de",
   "metadata": {},
   "outputs": [
    {
     "name": "stdout",
     "output_type": "stream",
     "text": [
      "Movies released in 2019:  540\n",
      "TV Shows released in 2019:  308\n",
      "Films released in 2019:  848\n"
     ]
    }
   ],
   "source": [
    "# How many movies and shows released in the year 2019?\n",
    "print(\"Movies released in 2019: \",release_movies[release_movies.year==2019].iloc[0]['count'])\n",
    "\n",
    "print(\"TV Shows released in 2019: \",release_shows[release_shows.year==2019].iloc[0]['count'])\n",
    "print(\"Films released in 2019: \",release[release.year==2019].iloc[0]['count'])"
   ]
  },
  {
   "cell_type": "code",
   "execution_count": 346,
   "id": "b71866e8",
   "metadata": {},
   "outputs": [
    {
     "data": {
      "text/plain": [
       "605"
      ]
     },
     "execution_count": 346,
     "metadata": {},
     "output_type": "execute_result"
    }
   ],
   "source": [
    "# How many titles release from India?\n",
    "c = title[title.production_countries == \"['IN']\"]['title'].count()\n",
    "c"
   ]
  },
  {
   "cell_type": "code",
   "execution_count": null,
   "id": "9923b848",
   "metadata": {},
   "outputs": [],
   "source": []
  },
  {
   "cell_type": "code",
   "execution_count": null,
   "id": "c0e05ed5",
   "metadata": {},
   "outputs": [],
   "source": []
  }
 ],
 "metadata": {
  "kernelspec": {
   "display_name": "Python 3 (ipykernel)",
   "language": "python",
   "name": "python3"
  },
  "language_info": {
   "codemirror_mode": {
    "name": "ipython",
    "version": 3
   },
   "file_extension": ".py",
   "mimetype": "text/x-python",
   "name": "python",
   "nbconvert_exporter": "python",
   "pygments_lexer": "ipython3",
   "version": "3.9.12"
  }
 },
 "nbformat": 4,
 "nbformat_minor": 5
}
